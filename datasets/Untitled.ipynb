{
 "cells": [
  {
   "cell_type": "code",
   "execution_count": 2,
   "id": "0eac6b50",
   "metadata": {},
   "outputs": [],
   "source": [
    "import os\n",
    "import numpy as np"
   ]
  },
  {
   "cell_type": "code",
   "execution_count": 4,
   "id": "8e1f5a68",
   "metadata": {},
   "outputs": [
    {
     "name": "stdout",
     "output_type": "stream",
     "text": [
      "/dss/dsshome1/05/di93sip/deeplearning/formers/WaveFormer/datasets\n"
     ]
    }
   ],
   "source": [
    "!pwd"
   ]
  },
  {
   "cell_type": "code",
   "execution_count": 33,
   "id": "91c86d14",
   "metadata": {},
   "outputs": [],
   "source": [
    "home_dir=\"/dss/dsshome1/05/di93sip\"\n",
    "work_dir=f\"{home_dir}/deeplearning/formers/WaveFormer\"\n",
    "data_dir=f\"{work_dir}/data/Synapse/train_npz\"\n",
    "list_dir=f\"{work_dir}/lists/lists_Synapse\"\n",
    "split=\"train\"\n",
    "idx = 1"
   ]
  },
  {
   "cell_type": "code",
   "execution_count": 34,
   "id": "c265b44b",
   "metadata": {},
   "outputs": [],
   "source": [
    "sample_list = open(os.path.join(list_dir, split+'.txt')).readlines()\n",
    "sample_list = [d.strip('\\n') for d in sample_list]"
   ]
  },
  {
   "cell_type": "code",
   "execution_count": 35,
   "id": "62865f46",
   "metadata": {},
   "outputs": [],
   "source": [
    "slice_name = sample_list[idx]\n",
    "data_path = os.path.join(data_dir, f\"{slice_name}.npz\")\n",
    "data = np.load(data_path)\n",
    "image, label = data['image'], data['label']"
   ]
  },
  {
   "cell_type": "code",
   "execution_count": 32,
   "id": "1c1fed66",
   "metadata": {},
   "outputs": [
    {
     "data": {
      "text/plain": [
       "['case0031_slice000',\n",
       " 'case0031_slice001',\n",
       " 'case0031_slice002',\n",
       " 'case0031_slice003',\n",
       " 'case0031_slice004']"
      ]
     },
     "execution_count": 32,
     "metadata": {},
     "output_type": "execute_result"
    }
   ],
   "source": [
    "sample_list[:5]"
   ]
  },
  {
   "cell_type": "code",
   "execution_count": 28,
   "id": "b9247210",
   "metadata": {},
   "outputs": [
    {
     "name": "stdout",
     "output_type": "stream",
     "text": [
      "test_vol_h5  train_npz\n"
     ]
    }
   ],
   "source": [
    "!ls /dss/dsshome1/05/di93sip/deeplearning/formers/WaveFormer/data/Synapse/"
   ]
  },
  {
   "cell_type": "code",
   "execution_count": null,
   "id": "4d731358",
   "metadata": {},
   "outputs": [],
   "source": []
  },
  {
   "cell_type": "code",
   "execution_count": null,
   "id": "47eb37c8",
   "metadata": {},
   "outputs": [],
   "source": []
  },
  {
   "cell_type": "code",
   "execution_count": 38,
   "id": "82fc7862",
   "metadata": {},
   "outputs": [],
   "source": [
    "from "
   ]
  },
  {
   "cell_type": "code",
   "execution_count": null,
   "id": "c31f9dea",
   "metadata": {},
   "outputs": [],
   "source": []
  },
  {
   "cell_type": "code",
   "execution_count": null,
   "id": "17ebb4f5",
   "metadata": {},
   "outputs": [],
   "source": []
  }
 ],
 "metadata": {
  "kernelspec": {
   "display_name": "Python 3 (ipykernel)",
   "language": "python",
   "name": "python3"
  },
  "language_info": {
   "codemirror_mode": {
    "name": "ipython",
    "version": 3
   },
   "file_extension": ".py",
   "mimetype": "text/x-python",
   "name": "python",
   "nbconvert_exporter": "python",
   "pygments_lexer": "ipython3",
   "version": "3.8.12"
  }
 },
 "nbformat": 4,
 "nbformat_minor": 5
}
